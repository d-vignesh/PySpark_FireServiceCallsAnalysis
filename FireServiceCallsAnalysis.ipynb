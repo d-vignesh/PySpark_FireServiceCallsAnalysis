{
 "cells": [
  {
   "cell_type": "code",
   "execution_count": 1,
   "metadata": {},
   "outputs": [],
   "source": [
    "import os\n",
    "import sys"
   ]
  },
  {
   "cell_type": "code",
   "execution_count": 2,
   "metadata": {},
   "outputs": [],
   "source": [
    "if 'SPARK_HOME' not in os.environ:\n",
    "    os.environ['SPARK_HOME'] = \"/usr/bin/spark-3.0.0-preview2-bin-hadoop2.7\"\n",
    "if 'PYSPARK_PYTHON' not in os.environ:\n",
    "    os.environ[\"PYSPARK_PYTHON\"]=\"/usr/bin/python3\""
   ]
  },
  {
   "cell_type": "code",
   "execution_count": 3,
   "metadata": {},
   "outputs": [],
   "source": [
    "SPARK_HOME = os.environ['SPARK_HOME']"
   ]
  },
  {
   "cell_type": "code",
   "execution_count": 5,
   "metadata": {},
   "outputs": [],
   "source": [
    "sys.path.insert(0,  os.path.join(SPARK_HOME, 'python'))\n",
    "sys.path.insert(0, os.path.join(SPARK_HOME, 'python', 'lib'))\n",
    "sys.path.insert(0, os.path.join(SPARK_HOME, 'python', 'lib', 'pyspark.zip'))\n",
    "sys.path.insert(0, os.path.join(SPARK_HOME, 'python', 'lib', 'py4j-0.10.8.1-src.zip'))"
   ]
  },
  {
   "cell_type": "code",
   "execution_count": 6,
   "metadata": {},
   "outputs": [],
   "source": [
    "from pyspark.sql import SparkSession"
   ]
  },
  {
   "cell_type": "code",
   "execution_count": 7,
   "metadata": {},
   "outputs": [],
   "source": [
    "spark = SparkSession.builder.appName('MySparkApp').getOrCreate()"
   ]
  },
  {
   "cell_type": "code",
   "execution_count": 8,
   "metadata": {},
   "outputs": [],
   "source": [
    "from pyspark.sql.types import StructType, StructField, IntegerType, StringType, BooleanType"
   ]
  },
  {
   "cell_type": "code",
   "execution_count": 9,
   "metadata": {},
   "outputs": [],
   "source": [
    "fireSchema = StructType([\n",
    "                StructField('CallNumber', IntegerType(), True),\n",
    "                StructField('UnitID', StringType(), True),\n",
    "                StructField('IncidentNumber', IntegerType(), True),\n",
    "                StructField('CallType', StringType(), True),\n",
    "                StructField('CallDate', StringType(), True),\n",
    "                StructField('WatchDate', StringType(), True),\n",
    "                StructField('ReceivedDtTm', StringType(), True),\n",
    "                StructField('EntryDtTm', StringType(), True),\n",
    "                StructField('DispatchDtTm', StringType(), True),\n",
    "                StructField('ResponseDtTm', StringType(), True),\n",
    "                StructField('OnSceneDtTm', StringType(), True),\n",
    "                StructField('TransportDtTm', StringType(), True),\n",
    "                StructField('HospitalDtTm', StringType(), True),\n",
    "                StructField('CallFinalDisposition', StringType(), True),\n",
    "                StructField('AvailableDtTm', StringType(), True),\n",
    "                StructField('Address', StringType(), True),\n",
    "                StructField('City', StringType(), True),\n",
    "                StructField('ZipcodeofIncident', IntegerType(), True),\n",
    "                StructField('Battalion', StringType(), True),\n",
    "                StructField('StationArea', StringType(), True),\n",
    "                StructField('Box', StringType(), True),\n",
    "                StructField('OriginalPriority', StringType(), True),\n",
    "                StructField('Priority', StringType(), True),\n",
    "                StructField('FinalPriority', IntegerType(), True),\n",
    "                StructField('ALSUnit', StringType(), True),\n",
    "                StructField('CallTypeGroup', StringType(), True),\n",
    "                StructField('NumberofAlarms', IntegerType(), True),\n",
    "                StructField('UnitType', StringType(), True),\n",
    "                StructField('Unitsequenceincalldispatch', IntegerType(), True),\n",
    "                StructField('FirePreventionDistrict', StringType(), True),\n",
    "                StructField('SupervisorDistrict', StringType(), True),\n",
    "                StructField('NeighborhooodDistrict', StringType(), True),\n",
    "                StructField('Location', StringType(), True),\n",
    "                StructField('RowID', StringType(), True),\n",
    "            ])"
   ]
  },
  {
   "cell_type": "code",
   "execution_count": 10,
   "metadata": {},
   "outputs": [],
   "source": [
    "fireServiceCallsDF = spark.read.csv('../data/Fire_Department_Calls_for_Service.csv', header=True, schema=fireSchema)"
   ]
  },
  {
   "cell_type": "code",
   "execution_count": 11,
   "metadata": {},
   "outputs": [
    {
     "name": "stdout",
     "output_type": "stream",
     "text": [
      "+----------+------+--------------+----------------+----------+----------+--------------------+--------------------+--------------------+--------------------+--------------------+--------------------+--------------------+--------------------+--------------------+--------------------+-------------+-----------------+---------+-----------+----+----------------+--------+-------------+-------+--------------------+--------------+------------+--------------------------+----------------------+------------------+---------------------+--------------------+--------------+\n",
      "|CallNumber|UnitID|IncidentNumber|        CallType|  CallDate| WatchDate|        ReceivedDtTm|           EntryDtTm|        DispatchDtTm|        ResponseDtTm|         OnSceneDtTm|       TransportDtTm|        HospitalDtTm|CallFinalDisposition|       AvailableDtTm|             Address|         City|ZipcodeofIncident|Battalion|StationArea| Box|OriginalPriority|Priority|FinalPriority|ALSUnit|       CallTypeGroup|NumberofAlarms|    UnitType|Unitsequenceincalldispatch|FirePreventionDistrict|SupervisorDistrict|NeighborhooodDistrict|            Location|         RowID|\n",
      "+----------+------+--------------+----------------+----------+----------+--------------------+--------------------+--------------------+--------------------+--------------------+--------------------+--------------------+--------------------+--------------------+--------------------+-------------+-----------------+---------+-----------+----+----------------+--------+-------------+-------+--------------------+--------------+------------+--------------------------+----------------------+------------------+---------------------+--------------------+--------------+\n",
      "| 192063475|   E02|      19087774|  Structure Fire|07/25/2019|07/25/2019|07/25/2019 07:16:...|07/25/2019 07:18:...|07/25/2019 07:18:...|07/25/2019 07:21:...|07/25/2019 07:21:...|                null|                null|                Fire|07/25/2019 07:23:...|1400 Block of SAC...|San Francisco|            94109|      B01|         41|1563|               3|       3|            3|   true|               Alarm|             1|      ENGINE|                         3|                     1|                 3|             Nob Hill|(37.7920595166393...| 192063475-E02|\n",
      "| 192063475|   E03|      19087774|  Structure Fire|07/25/2019|07/25/2019|07/25/2019 07:16:...|07/25/2019 07:18:...|07/25/2019 07:18:...|07/25/2019 07:19:...|07/25/2019 07:20:...|                null|                null|                Fire|07/25/2019 07:22:...|1400 Block of SAC...|San Francisco|            94109|      B01|         41|1563|               3|       3|            3|   true|               Alarm|             1|      ENGINE|                         2|                     1|                 3|             Nob Hill|(37.7920595166393...| 192063475-E03|\n",
      "| 192063475|   E41|      19087774|  Structure Fire|07/25/2019|07/25/2019|07/25/2019 07:16:...|07/25/2019 07:18:...|07/25/2019 07:18:...|07/25/2019 07:19:...|07/25/2019 07:20:...|                null|                null|                Fire|07/25/2019 07:24:...|1400 Block of SAC...|San Francisco|            94109|      B01|         41|1563|               3|       3|            3|   true|               Alarm|             1|      ENGINE|                         1|                     1|                 3|             Nob Hill|(37.7920595166393...| 192063475-E41|\n",
      "| 192063475|   RS1|      19087774|  Structure Fire|07/25/2019|07/25/2019|07/25/2019 07:16:...|07/25/2019 07:18:...|07/25/2019 07:18:...|07/25/2019 07:20:...|                null|                null|                null|                Fire|07/25/2019 07:22:...|1400 Block of SAC...|San Francisco|            94109|      B01|         41|1563|               3|       3|            3|  false|               Alarm|             1|RESCUE SQUAD|                         9|                     1|                 3|             Nob Hill|(37.7920595166393...| 192063475-RS1|\n",
      "| 192063475|   T02|      19087774|  Structure Fire|07/25/2019|07/25/2019|07/25/2019 07:16:...|07/25/2019 07:18:...|07/25/2019 07:18:...|07/25/2019 07:19:...|07/25/2019 07:21:...|                null|                null|                Fire|07/25/2019 07:22:...|1400 Block of SAC...|San Francisco|            94109|      B01|         41|1563|               3|       3|            3|  false|               Alarm|             1|       TRUCK|                         5|                     1|                 3|             Nob Hill|(37.7920595166393...| 192063475-T02|\n",
      "| 192063475|   T03|      19087774|  Structure Fire|07/25/2019|07/25/2019|07/25/2019 07:16:...|07/25/2019 07:18:...|07/25/2019 07:18:...|07/25/2019 07:19:...|07/25/2019 07:21:...|                null|                null|                Fire|07/25/2019 07:24:...|1400 Block of SAC...|San Francisco|            94109|      B01|         41|1563|               3|       3|            3|  false|               Alarm|             1|       TRUCK|                         4|                     1|                 3|             Nob Hill|(37.7920595166393...| 192063475-T03|\n",
      "| 192063495|    71|      19087775|Medical Incident|07/25/2019|07/25/2019|07/25/2019 07:18:...|07/25/2019 07:22:...|07/25/2019 07:22:...|07/25/2019 07:22:...|                null|                null|                null|    Code 2 Transport|07/25/2019 07:27:...|500 Block of BATT...|San Francisco|            94111|      B01|         13|1156|               2|       2|            2|   true|Non Life-threatening|             1|       MEDIC|                         2|                     1|                 3| Financial Distric...|(37.7963352483576...|  192063495-71|\n",
      "| 192063495|  KM01|      19087775|Medical Incident|07/25/2019|07/25/2019|07/25/2019 07:18:...|07/25/2019 07:22:...|07/25/2019 07:26:...|07/25/2019 07:26:...|07/25/2019 07:32:...|07/25/2019 08:02:...|07/25/2019 08:28:...|    Code 2 Transport|07/25/2019 09:00:...|500 Block of BATT...|San Francisco|            94111|      B01|         13|1156|               2|       2|            2|  false|Non Life-threatening|             1|     PRIVATE|                         1|                     1|                 3| Financial Distric...|(37.7963352483576...|192063495-KM01|\n",
      "| 171743725|   B05|      17073664|          Alarms|06/23/2017|06/23/2017|06/23/2017 08:30:...|06/23/2017 08:33:...|06/23/2017 08:34:...|                null|                null|                null|                null|                Fire|06/23/2017 08:35:...|500 Block of WALL...|San Francisco|            94117|      B05|         06|3635|               3|       3|            3|  false|               Alarm|             1|       CHIEF|                         3|                     5|                 5|       Haight Ashbury|(37.770966902634,...| 171743725-B05|\n",
      "| 172331593|   T06|      17097326|          Alarms|08/21/2017|08/21/2017|08/21/2017 11:02:...|08/21/2017 11:03:...|08/21/2017 11:03:...|08/21/2017 11:04:...|08/21/2017 11:07:...|                null|                null|                Fire|08/21/2017 11:17:...|1800 Block of 15T...|San Francisco|            94103|      B02|         06|5227|               3|       3|            3|  false|               Alarm|             1|       TRUCK|                         1|                     2|                 8|              Mission|(37.766322531621,...| 172331593-T06|\n",
      "| 172361661|   B01|      17098575|          Alarms|08/24/2017|08/24/2017|08/24/2017 11:11:...|08/24/2017 11:12:...|08/24/2017 11:12:...|                null|                null|                null|                null|                Fire|08/24/2017 11:14:...|400 Block of POST ST|San Francisco|            94102|      B01|         02|1362|               3|       3|            3|  false|               Alarm|             1|       CHIEF|                         2|                     1|                 3|             Nob Hill|(37.788241923266,...| 172361661-B01|\n",
      "| 172382364|    AP|      17099443|           Other|08/26/2017|08/26/2017|08/26/2017 03:40:...|08/26/2017 03:40:...|08/26/2017 03:40:...|08/26/2017 03:40:...|08/26/2017 03:40:...|                null|                null|                Fire|08/26/2017 03:40:...|CALL BOX: SF INTE...|         null|             null|      B09|         44|6913|               3|       3|            3|  false|               Alarm|             1|     AIRPORT|                         1|                  None|              None|                 None|(37.616882323925,...|  172382364-AP|\n",
      "| 172303013|   T07|      17096169|          Alarms|08/18/2017|08/18/2017|08/18/2017 04:53:...|08/18/2017 04:54:...|08/18/2017 04:54:...|08/18/2017 04:55:...|                null|                null|                null|                Fire|08/18/2017 05:10:...|2500 Block of MIS...|San Francisco|            94110|      B06|         07|5472|               3|       3|            3|  false|               Alarm|             1|       TRUCK|                         3|                     6|                 9|              Mission|(37.756231994644,...| 172303013-T07|\n",
      "| 172271783|   E02|      17094821|          Alarms|08/15/2017|08/15/2017|08/15/2017 12:10:...|08/15/2017 12:11:...|08/15/2017 12:12:...|                null|                null|                null|                null|                Fire|08/15/2017 12:13:...|600 Block of SACR...|San Francisco|            94111|      B01|         13|1244|               3|       3|            3|   true|               Alarm|             1|      ENGINE|                         4|                     1|                 3|            Chinatown|(37.793767329271,...| 172271783-E02|\n",
      "| 172370145|   T06|      17098825|          Alarms|08/25/2017|08/24/2017|08/25/2017 01:14:...|08/25/2017 01:15:...|08/25/2017 01:16:...|08/25/2017 01:18:...|                null|                null|                null|                Fire|08/25/2017 01:26:...|800 Block of HAYE...|San Francisco|            94117|      B02|         05|3522|               3|       3|            3|  false|               Alarm|             1|       TRUCK|                         3|                     2|                 5|         Hayes Valley|(37.775993545498,...| 172370145-T06|\n",
      "| 172752472|   T16|      17115706|          Alarms|10/02/2017|10/02/2017|10/02/2017 02:33:...|10/02/2017 02:35:...|10/02/2017 02:35:...|10/02/2017 02:36:...|                null|                null|                null|                Fire|10/02/2017 02:38:...|0 Block of GRAHAM ST|     Presidio|            94129|      B99|         51|4626|               3|       3|            3|  false|               Alarm|             1|       TRUCK|                         3|                     7|                 2|             Presidio|(37.800649950799,...| 172752472-T16|\n",
      "| 172653984|   B07|      17111703|  Structure Fire|09/22/2017|09/22/2017|09/22/2017 09:20:...|09/22/2017 09:23:...|09/22/2017 09:23:...|                null|                null|                null|                null|                Fire|09/22/2017 09:31:...|    POLK ST/GEARY ST|San Francisco|            94109|      B04|         03|3116|               3|       3|            3|  false|               Alarm|             1|       CHIEF|                        11|                     4|                 6|           Tenderloin|(37.785892901079,...| 172653984-B07|\n",
      "| 172784440|  KM07|      17117132|          Alarms|10/05/2017|10/05/2017|10/05/2017 11:38:...|10/05/2017 11:40:...|10/05/2017 11:45:...|                null|                null|                null|                null|                Fire|10/05/2017 11:46:...|1500 Block of 6TH...|San Francisco|            94122|      B08|         22|7331|               3|       3|            3|  false|               Alarm|             1|     PRIVATE|                         5|                     8|                 7|         Inner Sunset|(37.760097059647,...|172784440-KM07|\n",
      "| 172731658|   B08|      17114858|          Alarms|09/30/2017|09/30/2017|09/30/2017 12:24:...|09/30/2017 12:25:...|09/30/2017 12:26:...|                null|                null|                null|                null|                Fire|09/30/2017 12:26:...|2500 Block of 18T...|San Francisco|            94116|      B08|         40|7415|               3|       3|            3|  false|               Alarm|             1|       CHIEF|                         2|                     8|                 7|   West of Twin Peaks|(37.74030585418, ...| 172731658-B08|\n",
      "| 172642706|    58|      17111187|       Explosion|09/21/2017|09/21/2017|09/21/2017 03:53:...|09/21/2017 03:53:...|09/21/2017 03:53:...|09/21/2017 03:53:...|                null|                null|                null|                Fire|09/21/2017 03:56:...|1400 Block of POT...|San Francisco|            94110|      B10|         09|2624|               A|       3|            3|   true|                Fire|             1|       MEDIC|                         5|                    10|                10|              Mission|(37.750481610763,...|  172642706-58|\n",
      "+----------+------+--------------+----------------+----------+----------+--------------------+--------------------+--------------------+--------------------+--------------------+--------------------+--------------------+--------------------+--------------------+--------------------+-------------+-----------------+---------+-----------+----+----------------+--------+-------------+-------+--------------------+--------------+------------+--------------------------+----------------------+------------------+---------------------+--------------------+--------------+\n",
      "only showing top 20 rows\n",
      "\n"
     ]
    }
   ],
   "source": [
    "fireServiceCallsDF.show()"
   ]
  },
  {
   "cell_type": "code",
   "execution_count": 12,
   "metadata": {},
   "outputs": [
    {
     "data": {
      "text/plain": [
       "['CallNumber',\n",
       " 'UnitID',\n",
       " 'IncidentNumber',\n",
       " 'CallType',\n",
       " 'CallDate',\n",
       " 'WatchDate',\n",
       " 'ReceivedDtTm',\n",
       " 'EntryDtTm',\n",
       " 'DispatchDtTm',\n",
       " 'ResponseDtTm',\n",
       " 'OnSceneDtTm',\n",
       " 'TransportDtTm',\n",
       " 'HospitalDtTm',\n",
       " 'CallFinalDisposition',\n",
       " 'AvailableDtTm',\n",
       " 'Address',\n",
       " 'City',\n",
       " 'ZipcodeofIncident',\n",
       " 'Battalion',\n",
       " 'StationArea',\n",
       " 'Box',\n",
       " 'OriginalPriority',\n",
       " 'Priority',\n",
       " 'FinalPriority',\n",
       " 'ALSUnit',\n",
       " 'CallTypeGroup',\n",
       " 'NumberofAlarms',\n",
       " 'UnitType',\n",
       " 'Unitsequenceincalldispatch',\n",
       " 'FirePreventionDistrict',\n",
       " 'SupervisorDistrict',\n",
       " 'NeighborhooodDistrict',\n",
       " 'Location',\n",
       " 'RowID']"
      ]
     },
     "execution_count": 12,
     "metadata": {},
     "output_type": "execute_result"
    }
   ],
   "source": [
    "fireServiceCallsDF.columns"
   ]
  },
  {
   "cell_type": "code",
   "execution_count": 13,
   "metadata": {},
   "outputs": [
    {
     "data": {
      "text/plain": [
       "DataFrame[summary: string, CallNumber: string, UnitID: string, IncidentNumber: string, CallType: string, CallDate: string, WatchDate: string, ReceivedDtTm: string, EntryDtTm: string, DispatchDtTm: string, ResponseDtTm: string, OnSceneDtTm: string, TransportDtTm: string, HospitalDtTm: string, CallFinalDisposition: string, AvailableDtTm: string, Address: string, City: string, ZipcodeofIncident: string, Battalion: string, StationArea: string, Box: string, OriginalPriority: string, Priority: string, FinalPriority: string, ALSUnit: string, CallTypeGroup: string, NumberofAlarms: string, UnitType: string, Unitsequenceincalldispatch: string, FirePreventionDistrict: string, SupervisorDistrict: string, NeighborhooodDistrict: string, Location: string, RowID: string]"
      ]
     },
     "execution_count": 13,
     "metadata": {},
     "output_type": "execute_result"
    }
   ],
   "source": [
    "fireServiceCallsDF.describe()"
   ]
  },
  {
   "cell_type": "code",
   "execution_count": 14,
   "metadata": {},
   "outputs": [
    {
     "name": "stdout",
     "output_type": "stream",
     "text": [
      "root\n",
      " |-- CallNumber: integer (nullable = true)\n",
      " |-- UnitID: string (nullable = true)\n",
      " |-- IncidentNumber: integer (nullable = true)\n",
      " |-- CallType: string (nullable = true)\n",
      " |-- CallDate: string (nullable = true)\n",
      " |-- WatchDate: string (nullable = true)\n",
      " |-- ReceivedDtTm: string (nullable = true)\n",
      " |-- EntryDtTm: string (nullable = true)\n",
      " |-- DispatchDtTm: string (nullable = true)\n",
      " |-- ResponseDtTm: string (nullable = true)\n",
      " |-- OnSceneDtTm: string (nullable = true)\n",
      " |-- TransportDtTm: string (nullable = true)\n",
      " |-- HospitalDtTm: string (nullable = true)\n",
      " |-- CallFinalDisposition: string (nullable = true)\n",
      " |-- AvailableDtTm: string (nullable = true)\n",
      " |-- Address: string (nullable = true)\n",
      " |-- City: string (nullable = true)\n",
      " |-- ZipcodeofIncident: integer (nullable = true)\n",
      " |-- Battalion: string (nullable = true)\n",
      " |-- StationArea: string (nullable = true)\n",
      " |-- Box: string (nullable = true)\n",
      " |-- OriginalPriority: string (nullable = true)\n",
      " |-- Priority: string (nullable = true)\n",
      " |-- FinalPriority: integer (nullable = true)\n",
      " |-- ALSUnit: string (nullable = true)\n",
      " |-- CallTypeGroup: string (nullable = true)\n",
      " |-- NumberofAlarms: integer (nullable = true)\n",
      " |-- UnitType: string (nullable = true)\n",
      " |-- Unitsequenceincalldispatch: integer (nullable = true)\n",
      " |-- FirePreventionDistrict: string (nullable = true)\n",
      " |-- SupervisorDistrict: string (nullable = true)\n",
      " |-- NeighborhooodDistrict: string (nullable = true)\n",
      " |-- Location: string (nullable = true)\n",
      " |-- RowID: string (nullable = true)\n",
      "\n"
     ]
    }
   ],
   "source": [
    "fireServiceCallsDF.printSchema()"
   ]
  },
  {
   "cell_type": "code",
   "execution_count": 15,
   "metadata": {},
   "outputs": [
    {
     "data": {
      "text/plain": [
       "703735"
      ]
     },
     "execution_count": 15,
     "metadata": {},
     "output_type": "execute_result"
    }
   ],
   "source": [
    "fireServiceCallsDF.count()"
   ]
  },
  {
   "cell_type": "code",
   "execution_count": 16,
   "metadata": {},
   "outputs": [
    {
     "name": "stdout",
     "output_type": "stream",
     "text": [
      "+--------------+\n",
      "|      CallType|\n",
      "+--------------+\n",
      "|Structure Fire|\n",
      "|Structure Fire|\n",
      "|Structure Fire|\n",
      "|Structure Fire|\n",
      "|Structure Fire|\n",
      "+--------------+\n",
      "only showing top 5 rows\n",
      "\n"
     ]
    }
   ],
   "source": [
    "fireServiceCallsDF.select('CallType').show(5)"
   ]
  },
  {
   "cell_type": "code",
   "execution_count": 17,
   "metadata": {},
   "outputs": [],
   "source": [
    "# getting all the distinct call types\n",
    "distinct_callTypes = fireServiceCallsDF.select('CallType').distinct()"
   ]
  },
  {
   "cell_type": "code",
   "execution_count": 18,
   "metadata": {},
   "outputs": [
    {
     "name": "stdout",
     "output_type": "stream",
     "text": [
      "+--------------------------------------------+\n",
      "|CallType                                    |\n",
      "+--------------------------------------------+\n",
      "|Elevator / Escalator Rescue                 |\n",
      "|Marine Fire                                 |\n",
      "|Aircraft Emergency                          |\n",
      "|Confined Space / Structure Collapse         |\n",
      "|Administrative                              |\n",
      "|Alarms                                      |\n",
      "|Odor (Strange / Unknown)                    |\n",
      "|null                                        |\n",
      "|Citizen Assist / Service Call               |\n",
      "|HazMat                                      |\n",
      "|Watercraft in Distress                      |\n",
      "|Explosion                                   |\n",
      "|Oil Spill                                   |\n",
      "|Vehicle Fire                                |\n",
      "|Suspicious Package                          |\n",
      "|Train / Rail Fire                           |\n",
      "|Extrication / Entrapped (Machinery, Vehicle)|\n",
      "|Other                                       |\n",
      "|Outside Fire                                |\n",
      "|Traffic Collision                           |\n",
      "|Assist Police                               |\n",
      "|Gas Leak (Natural and LP Gases)             |\n",
      "|Water Rescue                                |\n",
      "|Electrical Hazard                           |\n",
      "|High Angle Rescue                           |\n",
      "|Structure Fire                              |\n",
      "|Industrial Accidents                        |\n",
      "|Medical Incident                            |\n",
      "|Mutual Aid / Assist Outside Agency          |\n",
      "|Fuel Spill                                  |\n",
      "|Smoke Investigation (Outside)               |\n",
      "|Train / Rail Incident                       |\n",
      "+--------------------------------------------+\n",
      "\n"
     ]
    }
   ],
   "source": [
    "distinct_callTypes.show(distinct_callTypes.count(), False) # the false flag is to avoid truncation of long texts"
   ]
  },
  {
   "cell_type": "code",
   "execution_count": 19,
   "metadata": {},
   "outputs": [],
   "source": [
    "# getting the number of calls made for each call type\n",
    "\n",
    "grpd_by_type = fireServiceCallsDF.select('CallType').groupBy('CallType').count().orderBy('count', ascending=False)"
   ]
  },
  {
   "cell_type": "code",
   "execution_count": 20,
   "metadata": {},
   "outputs": [
    {
     "name": "stdout",
     "output_type": "stream",
     "text": [
      "+--------------------------------------------+------+\n",
      "|CallType                                    |count |\n",
      "+--------------------------------------------+------+\n",
      "|Medical Incident                            |479692|\n",
      "|Alarms                                      |84115 |\n",
      "|Structure Fire                              |59948 |\n",
      "|Traffic Collision                           |28750 |\n",
      "|Other                                       |11096 |\n",
      "|Outside Fire                                |10023 |\n",
      "|Citizen Assist / Service Call               |9731  |\n",
      "|Gas Leak (Natural and LP Gases)             |4185  |\n",
      "|Water Rescue                                |3925  |\n",
      "|Electrical Hazard                           |2854  |\n",
      "|Vehicle Fire                                |2382  |\n",
      "|Elevator / Escalator Rescue                 |2282  |\n",
      "|Smoke Investigation (Outside)               |1697  |\n",
      "|Fuel Spill                                  |705   |\n",
      "|Odor (Strange / Unknown)                    |592   |\n",
      "|HazMat                                      |342   |\n",
      "|Explosion                                   |242   |\n",
      "|Industrial Accidents                        |196   |\n",
      "|Train / Rail Incident                       |187   |\n",
      "|Confined Space / Structure Collapse         |137   |\n",
      "|Watercraft in Distress                      |107   |\n",
      "|Extrication / Entrapped (Machinery, Vehicle)|89    |\n",
      "|Assist Police                               |83    |\n",
      "|Aircraft Emergency                          |79    |\n",
      "|High Angle Rescue                           |79    |\n",
      "|Mutual Aid / Assist Outside Agency          |59    |\n",
      "|Train / Rail Fire                           |49    |\n",
      "|Marine Fire                                 |41    |\n",
      "|Suspicious Package                          |37    |\n",
      "|Administrative                              |15    |\n",
      "|Oil Spill                                   |12    |\n",
      "|null                                        |4     |\n",
      "+--------------------------------------------+------+\n",
      "\n"
     ]
    }
   ],
   "source": [
    "grpd_by_type.show(grpd_by_type.count(), False)"
   ]
  },
  {
   "cell_type": "code",
   "execution_count": 21,
   "metadata": {},
   "outputs": [
    {
     "data": {
      "text/plain": [
       "68.16"
      ]
     },
     "execution_count": 21,
     "metadata": {},
     "output_type": "execute_result"
    }
   ],
   "source": [
    "round(grpd_by_type.first()['count'] / fireServiceCallsDF.count() * 100, 2)"
   ]
  },
  {
   "cell_type": "code",
   "execution_count": 22,
   "metadata": {},
   "outputs": [],
   "source": [
    "# nearly 68% of the calls where made for the purpose of Medical Incident"
   ]
  },
  {
   "cell_type": "code",
   "execution_count": 23,
   "metadata": {},
   "outputs": [],
   "source": [
    "from pyspark.sql.functions import *"
   ]
  },
  {
   "cell_type": "code",
   "execution_count": 65,
   "metadata": {},
   "outputs": [],
   "source": [
    "from_pattern1 = 'MM/dd/yyyy'\n",
    "from_pattern2 = 'MM/dd/yyyy hh:mm:ss a'"
   ]
  },
  {
   "cell_type": "code",
   "execution_count": 42,
   "metadata": {},
   "outputs": [],
   "source": [
    "# converting the dataTime columns which are in string type to dateTime type\n",
    "\n",
    "fireServiceCallsTSDF = fireServiceCallsDF \\\n",
    "    .withColumn('CallDateTS', unix_timestamp(fireServiceCallsDF['CallDate'], from_pattern1).cast('timestamp')) \\\n",
    "    .drop('CallDate') \\\n",
    "    .withColumn('WatchDateTS', unix_timestamp(fireServiceCallsDF['WatchDate'], from_pattern1).cast('timestamp')) \\\n",
    "    .drop('WatchDate') \\\n",
    "    .withColumn('ReceivedDtTmTS', unix_timestamp(fireServiceCallsDF['ReceivedDtTm'], from_pattern2).cast('timestamp')) \\\n",
    "    .drop('ReceivedDtTm') \\\n",
    "    .withColumn('EntryDtTmTS', unix_timestamp(fireServiceCallsDF['EntryDtTm'], from_pattern2).cast('timestamp')) \\\n",
    "    .drop('EntryDtTm') \\\n",
    "    .withColumn('DispatchDtTmTs', unix_timestamp(fireServiceCallsDF['DispatchDtTm'], from_pattern2).cast('timestamp')) \\\n",
    "    .drop('DispatchDtTm') \\\n",
    "    .withColumn('ResponseDtTmTs', unix_timestamp(fireServiceCallsDF['ResponseDtTm'], from_pattern2).cast('timestamp')) \\\n",
    "    .drop('ResponseDtTm') \\\n",
    "    .withColumn('OnSceneDtTmTs', unix_timestamp(fireServiceCallsDF['OnSceneDtTm'], from_pattern2).cast('timestamp')) \\\n",
    "    .drop('OnSceneDtTm') \\\n",
    "    .withColumn('TransportDtTmTs', unix_timestamp(fireServiceCallsDF['TransportDtTm'], from_pattern2).cast('timestamp')) \\\n",
    "    .drop('TransportDtTm') \\\n",
    "    .withColumn('HospitalDtTmTs', unix_timestamp(fireServiceCallsDF['HospitalDtTm'], from_pattern2).cast('timestamp')) \\\n",
    "    .drop('HospitalDtTm') \\\n",
    "    .withColumn('AvailableDtTmTs', unix_timestamp(fireServiceCallsDF['AvailableDtTm'], from_pattern2).cast('timestamp')) \\\n",
    "    .drop('AvailableDtTm') "
   ]
  },
  {
   "cell_type": "code",
   "execution_count": 43,
   "metadata": {},
   "outputs": [
    {
     "data": {
      "text/plain": [
       "['CallNumber',\n",
       " 'UnitID',\n",
       " 'IncidentNumber',\n",
       " 'CallType',\n",
       " 'CallFinalDisposition',\n",
       " 'Address',\n",
       " 'City',\n",
       " 'ZipcodeofIncident',\n",
       " 'Battalion',\n",
       " 'StationArea',\n",
       " 'Box',\n",
       " 'OriginalPriority',\n",
       " 'Priority',\n",
       " 'FinalPriority',\n",
       " 'ALSUnit',\n",
       " 'CallTypeGroup',\n",
       " 'NumberofAlarms',\n",
       " 'UnitType',\n",
       " 'Unitsequenceincalldispatch',\n",
       " 'FirePreventionDistrict',\n",
       " 'SupervisorDistrict',\n",
       " 'NeighborhooodDistrict',\n",
       " 'Location',\n",
       " 'RowID',\n",
       " 'CallDateTS',\n",
       " 'WatchDateTS',\n",
       " 'ReceivedDtTmTS',\n",
       " 'EntryDtTmTS',\n",
       " 'DispatchDtTmTs',\n",
       " 'ResponseDtTmTs',\n",
       " 'OnSceneDtTmTs',\n",
       " 'TransportDtTmTs',\n",
       " 'HospitalDtTmTs',\n",
       " 'AvailableDtTmTs']"
      ]
     },
     "execution_count": 43,
     "metadata": {},
     "output_type": "execute_result"
    }
   ],
   "source": [
    "fireServiceCallsTSDF.columns"
   ]
  },
  {
   "cell_type": "code",
   "execution_count": 44,
   "metadata": {},
   "outputs": [
    {
     "name": "stdout",
     "output_type": "stream",
     "text": [
      "+-------------------+-------------------+-------------------+-------------------+-------------------+-------------------+---------------+-------------------+--------------+-------------------+\n",
      "|         CallDateTS|        WatchDateTS|     ReceivedDtTmTS|        EntryDtTmTS|     DispatchDtTmTs|     ResponseDtTmTS|TransportDtTmTs|      OnSceneDtTmTs|HospitalDtTmTs|    AvailableDtTmTs|\n",
      "+-------------------+-------------------+-------------------+-------------------+-------------------+-------------------+---------------+-------------------+--------------+-------------------+\n",
      "|2019-07-25 00:00:00|2019-07-25 00:00:00|2019-07-25 19:16:45|2019-07-25 19:18:15|2019-07-25 19:18:47|2019-07-25 19:21:12|           null|2019-07-25 19:21:39|          null|2019-07-25 19:23:01|\n",
      "|2019-07-25 00:00:00|2019-07-25 00:00:00|2019-07-25 19:16:45|2019-07-25 19:18:15|2019-07-25 19:18:47|2019-07-25 19:19:14|           null|2019-07-25 19:20:43|          null|2019-07-25 19:22:45|\n",
      "|2019-07-25 00:00:00|2019-07-25 00:00:00|2019-07-25 19:16:45|2019-07-25 19:18:15|2019-07-25 19:18:47|2019-07-25 19:19:29|           null|2019-07-25 19:20:26|          null|2019-07-25 19:24:54|\n",
      "|2019-07-25 00:00:00|2019-07-25 00:00:00|2019-07-25 19:16:45|2019-07-25 19:18:15|2019-07-25 19:18:47|2019-07-25 19:20:30|           null|               null|          null|2019-07-25 19:22:25|\n",
      "|2019-07-25 00:00:00|2019-07-25 00:00:00|2019-07-25 19:16:45|2019-07-25 19:18:15|2019-07-25 19:18:47|2019-07-25 19:19:32|           null|2019-07-25 19:21:57|          null|2019-07-25 19:22:09|\n",
      "+-------------------+-------------------+-------------------+-------------------+-------------------+-------------------+---------------+-------------------+--------------+-------------------+\n",
      "only showing top 5 rows\n",
      "\n"
     ]
    }
   ],
   "source": [
    "fireServiceCallsTSDF.select('CallDateTS', 'WatchDateTS', 'ReceivedDtTmTS', 'EntryDtTmTS', 'DispatchDtTmTs',\n",
    "                          'ResponseDtTmTS', 'TransportDtTmTs', 'OnSceneDtTmTs', 'HospitalDtTmTs', 'AvailableDtTmTs'\n",
    "                         ).show(5)"
   ]
  },
  {
   "cell_type": "code",
   "execution_count": 29,
   "metadata": {},
   "outputs": [
    {
     "name": "stdout",
     "output_type": "stream",
     "text": [
      "+----------+----------+--------------------+--------------------+--------------------+--------------------+-------------+--------------------+------------+--------------------+\n",
      "|  CallDate| WatchDate|        ReceivedDtTm|           EntryDtTm|        DispatchDtTm|        ResponseDtTm|TransportDtTm|         OnSceneDtTm|HospitalDtTm|       AvailableDtTm|\n",
      "+----------+----------+--------------------+--------------------+--------------------+--------------------+-------------+--------------------+------------+--------------------+\n",
      "|07/25/2019|07/25/2019|07/25/2019 07:16:...|07/25/2019 07:18:...|07/25/2019 07:18:...|07/25/2019 07:21:...|         null|07/25/2019 07:21:...|        null|07/25/2019 07:23:...|\n",
      "|07/25/2019|07/25/2019|07/25/2019 07:16:...|07/25/2019 07:18:...|07/25/2019 07:18:...|07/25/2019 07:19:...|         null|07/25/2019 07:20:...|        null|07/25/2019 07:22:...|\n",
      "|07/25/2019|07/25/2019|07/25/2019 07:16:...|07/25/2019 07:18:...|07/25/2019 07:18:...|07/25/2019 07:19:...|         null|07/25/2019 07:20:...|        null|07/25/2019 07:24:...|\n",
      "|07/25/2019|07/25/2019|07/25/2019 07:16:...|07/25/2019 07:18:...|07/25/2019 07:18:...|07/25/2019 07:20:...|         null|                null|        null|07/25/2019 07:22:...|\n",
      "|07/25/2019|07/25/2019|07/25/2019 07:16:...|07/25/2019 07:18:...|07/25/2019 07:18:...|07/25/2019 07:19:...|         null|07/25/2019 07:21:...|        null|07/25/2019 07:22:...|\n",
      "+----------+----------+--------------------+--------------------+--------------------+--------------------+-------------+--------------------+------------+--------------------+\n",
      "only showing top 5 rows\n",
      "\n"
     ]
    }
   ],
   "source": [
    "fireServiceCallsDF.select('CallDate', 'WatchDate', 'ReceivedDtTm', 'EntryDtTm', 'DispatchDtTm',\n",
    "                          'ResponseDtTm', 'TransportDtTm', 'OnSceneDtTm', 'HospitalDtTm', 'AvailableDtTm'\n",
    "                         ).show(5)"
   ]
  },
  {
   "cell_type": "code",
   "execution_count": 49,
   "metadata": {},
   "outputs": [
    {
     "name": "stdout",
     "output_type": "stream",
     "text": [
      "root\n",
      " |-- CallNumber: integer (nullable = true)\n",
      " |-- UnitID: string (nullable = true)\n",
      " |-- IncidentNumber: integer (nullable = true)\n",
      " |-- CallType: string (nullable = true)\n",
      " |-- CallFinalDisposition: string (nullable = true)\n",
      " |-- Address: string (nullable = true)\n",
      " |-- City: string (nullable = true)\n",
      " |-- ZipcodeofIncident: integer (nullable = true)\n",
      " |-- Battalion: string (nullable = true)\n",
      " |-- StationArea: string (nullable = true)\n",
      " |-- Box: string (nullable = true)\n",
      " |-- OriginalPriority: string (nullable = true)\n",
      " |-- Priority: string (nullable = true)\n",
      " |-- FinalPriority: integer (nullable = true)\n",
      " |-- ALSUnit: string (nullable = true)\n",
      " |-- CallTypeGroup: string (nullable = true)\n",
      " |-- NumberofAlarms: integer (nullable = true)\n",
      " |-- UnitType: string (nullable = true)\n",
      " |-- Unitsequenceincalldispatch: integer (nullable = true)\n",
      " |-- FirePreventionDistrict: string (nullable = true)\n",
      " |-- SupervisorDistrict: string (nullable = true)\n",
      " |-- NeighborhooodDistrict: string (nullable = true)\n",
      " |-- Location: string (nullable = true)\n",
      " |-- RowID: string (nullable = true)\n",
      " |-- CallDateTS: timestamp (nullable = true)\n",
      " |-- WatchDateTS: timestamp (nullable = true)\n",
      " |-- ReceivedDtTmTS: timestamp (nullable = true)\n",
      " |-- EntryDtTmTS: timestamp (nullable = true)\n",
      " |-- DispatchDtTmTs: timestamp (nullable = true)\n",
      " |-- ResponseDtTmTs: timestamp (nullable = true)\n",
      " |-- OnSceneDtTmTs: timestamp (nullable = true)\n",
      " |-- TransportDtTmTs: timestamp (nullable = true)\n",
      " |-- HospitalDtTmTs: timestamp (nullable = true)\n",
      " |-- AvailableDtTmTs: timestamp (nullable = true)\n",
      "\n"
     ]
    }
   ],
   "source": [
    "fireServiceCallsTSDF.printSchema()"
   ]
  },
  {
   "cell_type": "code",
   "execution_count": 50,
   "metadata": {},
   "outputs": [
    {
     "name": "stdout",
     "output_type": "stream",
     "text": [
      "+----------------+\n",
      "|year(CallDateTS)|\n",
      "+----------------+\n",
      "|            null|\n",
      "|            2000|\n",
      "|            2001|\n",
      "|            2002|\n",
      "|            2003|\n",
      "|            2004|\n",
      "|            2005|\n",
      "|            2006|\n",
      "|            2007|\n",
      "|            2008|\n",
      "|            2009|\n",
      "|            2010|\n",
      "|            2011|\n",
      "|            2012|\n",
      "|            2013|\n",
      "|            2014|\n",
      "|            2015|\n",
      "|            2016|\n",
      "|            2017|\n",
      "|            2018|\n",
      "+----------------+\n",
      "only showing top 20 rows\n",
      "\n",
      "CPU times: user 2.78 ms, sys: 3.85 ms, total: 6.63 ms\n",
      "Wall time: 4.2 s\n"
     ]
    }
   ],
   "source": [
    "# checking how many years of data we have\n",
    "\n",
    "%time fireServiceCallsTSDF.select(year('CallDateTS')).distinct().orderBy('year(CallDateTS)').show()"
   ]
  },
  {
   "cell_type": "code",
   "execution_count": 51,
   "metadata": {},
   "outputs": [
    {
     "name": "stdout",
     "output_type": "stream",
     "text": [
      "+---------------------+-----+\n",
      "|dayofyear(CallDateTS)|count|\n",
      "+---------------------+-----+\n",
      "|                    1|    4|\n",
      "|                    2|   11|\n",
      "|                    3|    8|\n",
      "|                    4|    5|\n",
      "|                    5|    1|\n",
      "|                    6|    2|\n",
      "|                    7|    2|\n",
      "+---------------------+-----+\n",
      "\n",
      "CPU times: user 11.1 ms, sys: 1.85 ms, total: 12.9 ms\n",
      "Wall time: 4.3 s\n"
     ]
    }
   ],
   "source": [
    "# checking how may call we get by each day, we will check for the days in the first week of the year \n",
    "# to just get a glimse of the data. \n",
    "\n",
    "%time fireServiceCallsTSDF.filter(year('CallDateTS') == '2018').filter((dayofyear('CallDateTS') >= 1) & (dayofyear('CallDateTS') <= 7)) \\\n",
    "                          .groupBy(dayofyear('CallDateTS')).count().orderBy('dayofyear(CallDateTS)').show()"
   ]
  },
  {
   "cell_type": "code",
   "execution_count": 52,
   "metadata": {},
   "outputs": [
    {
     "data": {
      "text/plain": [
       "4"
      ]
     },
     "execution_count": 52,
     "metadata": {},
     "output_type": "execute_result"
    }
   ],
   "source": [
    "fireServiceCallsTSDF.rdd.getNumPartitions()"
   ]
  },
  {
   "cell_type": "code",
   "execution_count": 53,
   "metadata": {},
   "outputs": [],
   "source": [
    "fireServiceCallsTSDF.repartition(2).createOrReplaceTempView('fireServiceVIEW')"
   ]
  },
  {
   "cell_type": "code",
   "execution_count": 54,
   "metadata": {},
   "outputs": [
    {
     "name": "stdout",
     "output_type": "stream",
     "text": [
      "CPU times: user 3.76 ms, sys: 0 ns, total: 3.76 ms\n",
      "Wall time: 612 ms\n"
     ]
    }
   ],
   "source": [
    "%time spark.catalog.cacheTable('fireServiceVIEW')"
   ]
  },
  {
   "cell_type": "code",
   "execution_count": 55,
   "metadata": {},
   "outputs": [
    {
     "name": "stdout",
     "output_type": "stream",
     "text": [
      "CPU times: user 6.4 ms, sys: 726 µs, total: 7.13 ms\n",
      "Wall time: 28.5 s\n"
     ]
    },
    {
     "data": {
      "text/plain": [
       "703735"
      ]
     },
     "execution_count": 55,
     "metadata": {},
     "output_type": "execute_result"
    }
   ],
   "source": [
    "%time spark.table('fireServiceVIEW').count()"
   ]
  },
  {
   "cell_type": "code",
   "execution_count": 56,
   "metadata": {},
   "outputs": [
    {
     "name": "stdout",
     "output_type": "stream",
     "text": [
      "CPU times: user 1.83 ms, sys: 0 ns, total: 1.83 ms\n",
      "Wall time: 11.5 ms\n"
     ]
    }
   ],
   "source": [
    "%time fireServiceDF = spark.table('fireServiceVIEW')"
   ]
  },
  {
   "cell_type": "code",
   "execution_count": 57,
   "metadata": {},
   "outputs": [
    {
     "name": "stdout",
     "output_type": "stream",
     "text": [
      "CPU times: user 613 µs, sys: 129 µs, total: 742 µs\n",
      "Wall time: 128 ms\n"
     ]
    },
    {
     "data": {
      "text/plain": [
       "703735"
      ]
     },
     "execution_count": 57,
     "metadata": {},
     "output_type": "execute_result"
    }
   ],
   "source": [
    "%time fireServiceDF.count()"
   ]
  },
  {
   "cell_type": "code",
   "execution_count": 58,
   "metadata": {},
   "outputs": [
    {
     "data": {
      "text/plain": [
       "True"
      ]
     },
     "execution_count": 58,
     "metadata": {},
     "output_type": "execute_result"
    }
   ],
   "source": [
    "spark.catalog.isCached('fireServiceVIEW')"
   ]
  },
  {
   "cell_type": "code",
   "execution_count": 60,
   "metadata": {},
   "outputs": [
    {
     "name": "stdout",
     "output_type": "stream",
     "text": [
      "+--------+\n",
      "|count(1)|\n",
      "+--------+\n",
      "|  703735|\n",
      "+--------+\n",
      "\n"
     ]
    }
   ],
   "source": [
    "spark.sql('SELECT COUNT(*) FROM fireServiceVIEW').show()"
   ]
  },
  {
   "cell_type": "code",
   "execution_count": 61,
   "metadata": {},
   "outputs": [
    {
     "name": "stdout",
     "output_type": "stream",
     "text": [
      "+---------------------+-------------------+\n",
      "|NeighborhooodDistrict|Neighbourhood_count|\n",
      "+---------------------+-------------------+\n",
      "|           Tenderloin|              40084|\n",
      "|      South of Market|              29878|\n",
      "|              Mission|              24644|\n",
      "| Financial Distric...|              21833|\n",
      "| Bayview Hunters P...|              14319|\n",
      "|      Sunset/Parkside|               9757|\n",
      "|     Western Addition|               9625|\n",
      "|             Nob Hill|               9005|\n",
      "|  Castro/Upper Market|               7544|\n",
      "|         Hayes Valley|               7163|\n",
      "|       Outer Richmond|               6535|\n",
      "|          North Beach|               6038|\n",
      "|   West of Twin Peaks|               5792|\n",
      "|            Excelsior|               5686|\n",
      "|               Marina|               5610|\n",
      "+---------------------+-------------------+\n",
      "\n"
     ]
    }
   ],
   "source": [
    "spark.sql('SELECT NeighborhooodDistrict, count(NeighborhooodDistrict) AS Neighbourhood_count FROM \\\n",
    "          fireServiceVIEW WHERE year(CallDateTS) == \"2018\" GROUP BY NeighborhooodDistrict \\\n",
    "          ORDER BY Neighbourhood_count DESC LIMIT 15').show()"
   ]
  },
  {
   "cell_type": "code",
   "execution_count": null,
   "metadata": {},
   "outputs": [],
   "source": [
    "fireServiceDF.write.format('parquet').save('./fireServiceParquet')"
   ]
  }
 ],
 "metadata": {
  "kernelspec": {
   "display_name": "Python 3",
   "language": "python",
   "name": "python3"
  },
  "language_info": {
   "codemirror_mode": {
    "name": "ipython",
    "version": 3
   },
   "file_extension": ".py",
   "mimetype": "text/x-python",
   "name": "python",
   "nbconvert_exporter": "python",
   "pygments_lexer": "ipython3",
   "version": "3.7.5"
  }
 },
 "nbformat": 4,
 "nbformat_minor": 2
}
